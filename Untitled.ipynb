{
 "cells": [
  {
   "cell_type": "code",
   "execution_count": 1,
   "metadata": {},
   "outputs": [],
   "source": [
    "import argparse\n",
    "import copy\n",
    "import os\n",
    "\n",
    "import cv2\n",
    "import numpy as np\n",
    "\n",
    "import utils"
   ]
  },
  {
   "cell_type": "code",
   "execution_count": 2,
   "metadata": {},
   "outputs": [],
   "source": [
    "# low_pass filter and high-pass filter\n",
    "low_pass = [[1/16, 1/8, 1/16], [1/8, 1/4, 1/8], [1/16, 1/8, 1/16]]\n",
    "high_pass = [[-1/8, -1/8, -1/8], [-1/8, 2, -1/8], [-1/8, -1/8, -1/8]]\n"
   ]
  },
  {
   "cell_type": "code",
   "execution_count": 3,
   "metadata": {},
   "outputs": [],
   "source": [
    "def parse_args():\n",
    "    parser = argparse.ArgumentParser(description=\"cse 473/573 project 1.\")\n",
    "    parser.add_argument(\n",
    "        \"--img-path\",\n",
    "        type=str,\n",
    "        default=\"./data/proj1-task1.jpg\",\n",
    "        help=\"path to the image\"\n",
    "    )\n",
    "    parser.add_argument(\n",
    "        \"--filter\",\n",
    "        type=str,\n",
    "        default=\"high-pass\",\n",
    "        choices=[\"low-pass\", \"high-pass\"],\n",
    "        help=\"type of filter\"\n",
    "    )\n",
    "    parser.add_argument(\n",
    "        \"--result-saving-dir\",\n",
    "        dest=\"rs_dir\",\n",
    "        type=str,\n",
    "        default=\"./results/\",\n",
    "        help=\"directory to which results are saved (do not change this arg)\"\n",
    "    )\n",
    "    args = parser.parse_args()\n",
    "    return args\n"
   ]
  },
  {
   "cell_type": "code",
   "execution_count": 4,
   "metadata": {},
   "outputs": [],
   "source": [
    "def read_image(img_path, show=False):\n",
    "    \"\"\"Reads an image into memory as a grayscale array.\n",
    "    \"\"\"\n",
    "    img = cv2.imread(img_path, cv2.IMREAD_GRAYSCALE)\n",
    "    if not img.dtype == np.uint8:\n",
    "        pass\n",
    "\n",
    "    if show:\n",
    "        show_image(img)\n",
    "\n",
    "    img = [list(row) for row in img]\n",
    "    return img\n"
   ]
  },
  {
   "cell_type": "code",
   "execution_count": 5,
   "metadata": {},
   "outputs": [],
   "source": [
    "def show_image(img, delay=1000):\n",
    "    \"\"\"Shows an image.\n",
    "    \"\"\"\n",
    "    cv2.namedWindow('image', cv2.WINDOW_AUTOSIZE)\n",
    "    cv2.imshow('image', img)\n",
    "    cv2.waitKey(delay)\n",
    "    cv2.destroyAllWindows()\n",
    "\n",
    "def write_image(img, img_saving_path):\n",
    "    \"\"\"Writes an image to a given path.\n",
    "    \"\"\"\n",
    "    if isinstance(img, list):\n",
    "        img = np.asarray(img, dtype=np.uint8)\n",
    "    elif isinstance(img, np.ndarray):\n",
    "        if not img.dtype == np.uint8:\n",
    "            assert np.max(img) <= 1, \"Maximum pixel value {:.3f} is greater than 1\".format(np.max(img))\n",
    "            img = (255 * img).astype(np.uint8)\n",
    "    else:\n",
    "        raise TypeError(\"img is neither a list nor a ndarray.\")\n",
    "\n",
    "    cv2.imwrite(img_saving_path, img)\n"
   ]
  },
  {
   "cell_type": "code",
   "execution_count": 6,
   "metadata": {},
   "outputs": [],
   "source": [
    "def convolve2d(img, kernel):\n",
    "    \"\"\"Convolves a given image and a given kernel.\n",
    "\n",
    "    Steps:\n",
    "        (1) flips the kernel\n",
    "        (2) pads the image # IMPORTANT\n",
    "            this step handles pixels along the border of the image, and ensures that the output image is of the same size as the input image\n",
    "        (3) calucates the convolved image using nested for loop\n",
    "\n",
    "    Args:\n",
    "        img: nested list (int), image.\n",
    "        kernel: nested list (int), kernel.\n",
    "\n",
    "    Returns:\n",
    "        img_conv: nested list (int), convolved image.\n",
    "    \"\"\"\n",
    "    # TODO: implement this function.\n",
    "    raise NotImplementedError\n"
   ]
  },
  {
   "cell_type": "code",
   "execution_count": 7,
   "metadata": {},
   "outputs": [],
   "source": [
    "def main():\n",
    "    args = parse_args()\n",
    "\n",
    "    img = read_image(args.img_path)\n",
    "\n",
    "    if args.filter == \"low-pass\":\n",
    "        kernel = low_pass\n",
    "    elif args.filter == \"high-pass\":\n",
    "        kernel = high_pass\n",
    "    else:\n",
    "        raise ValueError(\"Filter type not recognized.\")\n",
    "\n",
    "    if not os.path.exists(args.rs_dir):\n",
    "        os.makedirs(args.rs_dir)\n",
    "\n",
    "    filtered_img = convolve2d(img, kernel)\n",
    "    write_image(filtered_img, os.path.join(args.rs_dir, \"{}.jpg\".format(args.filter)))"
   ]
  },
  {
   "cell_type": "code",
   "execution_count": 16,
   "metadata": {},
   "outputs": [
    {
     "name": "stderr",
     "output_type": "stream",
     "text": [
      "usage: ipykernel_launcher.py [-h] [--img-path IMG_PATH]\n",
      "                             [--filter {low-pass,high-pass}]\n",
      "                             [--result-saving-dir RS_DIR]\n",
      "ipykernel_launcher.py: error: unrecognized arguments: -f C:\\Users\\Christopher\\AppData\\Roaming\\jupyter\\runtime\\kernel-7bc0f141-08c6-48a9-9891-5420d241efb8.json\n"
     ]
    },
    {
     "ename": "SystemExit",
     "evalue": "2",
     "output_type": "error",
     "traceback": [
      "An exception has occurred, use %tb to see the full traceback.\n",
      "\u001b[1;31mSystemExit\u001b[0m\u001b[1;31m:\u001b[0m 2\n"
     ]
    },
    {
     "name": "stderr",
     "output_type": "stream",
     "text": [
      "C:\\Anaconda3\\lib\\site-packages\\IPython\\core\\interactiveshell.py:2971: UserWarning: To exit: use 'exit', 'quit', or Ctrl-D.\n",
      "  warn(\"To exit: use 'exit', 'quit', or Ctrl-D.\", stacklevel=1)\n"
     ]
    }
   ],
   "source": [
    "if __name__ == \"__main__\":\n",
    "    main()"
   ]
  },
  {
   "cell_type": "code",
   "execution_count": 12,
   "metadata": {},
   "outputs": [],
   "source": [
    "import task1\n"
   ]
  },
  {
   "cell_type": "code",
   "execution_count": null,
   "metadata": {},
   "outputs": [],
   "source": []
  }
 ],
 "metadata": {
  "kernelspec": {
   "display_name": "Python 3",
   "language": "python",
   "name": "python3"
  },
  "language_info": {
   "codemirror_mode": {
    "name": "ipython",
    "version": 3
   },
   "file_extension": ".py",
   "mimetype": "text/x-python",
   "name": "python",
   "nbconvert_exporter": "python",
   "pygments_lexer": "ipython3",
   "version": "3.6.5"
  }
 },
 "nbformat": 4,
 "nbformat_minor": 2
}
